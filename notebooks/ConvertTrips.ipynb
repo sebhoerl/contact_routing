{
 "cells": [
  {
   "cell_type": "code",
   "execution_count": 9,
   "id": "8ccfc4d6",
   "metadata": {},
   "outputs": [],
   "source": [
    "import pandas as pd"
   ]
  },
  {
   "cell_type": "code",
   "execution_count": 10,
   "id": "1175886b",
   "metadata": {},
   "outputs": [],
   "source": [
    "try:\n",
    "    input_path = snakemake.input[0]\n",
    "    output_path = snakemake.output[0]\n",
    "except NameError:\n",
    "    input_path = \"../input/0.trips.csv\"\n",
    "    output_path = \"../data/routing_input.csv\""
   ]
  },
  {
   "cell_type": "code",
   "execution_count": 11,
   "id": "561b47d4",
   "metadata": {},
   "outputs": [],
   "source": [
    "df = pd.read_csv(input_path, sep = \";\")\n",
    "df = df[df[\"mode\"] == \"pt\"]\n",
    "df = df[[\"person_id\", \"person_trip_id\", \"origin_x\", \"origin_y\", \"destination_x\", \"destination_y\", \"departure_time\"]]"
   ]
  },
  {
   "cell_type": "code",
   "execution_count": 12,
   "id": "5fabf960",
   "metadata": {},
   "outputs": [],
   "source": [
    "df = df.rename(columns = {\n",
    "    \"person_id\": \"personId\", \"person_trip_id\": \"personTripId\",\n",
    "    \"origin_x\": \"originX\", \"origin_y\": \"originY\", \"destination_x\": \"destinationX\", \"destination_y\": \"destinationY\",\n",
    "    \"departure_time\": \"departureTime\"\n",
    "})\n",
    "\n",
    "df[\"identifier\"] = df[\"personId\"].astype(str) + \"###\" + df[\"personTripId\"].astype(str)"
   ]
  },
  {
   "cell_type": "code",
   "execution_count": 13,
   "id": "d2356ca5",
   "metadata": {},
   "outputs": [],
   "source": [
    "df[[\n",
    "  \"identifier\", \"originX\", \"originY\", \"destinationX\", \"destinationY\", \"departureTime\"  \n",
    "]].to_csv(output_path, index = False, sep = \",\")"
   ]
  }
 ],
 "metadata": {
  "kernelspec": {
   "display_name": "Python 3 (ipykernel)",
   "language": "python",
   "name": "python3"
  },
  "language_info": {
   "codemirror_mode": {
    "name": "ipython",
    "version": 3
   },
   "file_extension": ".py",
   "mimetype": "text/x-python",
   "name": "python",
   "nbconvert_exporter": "python",
   "pygments_lexer": "ipython3",
   "version": "3.8.2"
  }
 },
 "nbformat": 4,
 "nbformat_minor": 5
}
